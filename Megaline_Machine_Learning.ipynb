{
 "cells": [
  {
   "cell_type": "markdown",
   "id": "b7594ca5",
   "metadata": {},
   "source": [
    "# Megaline Mobile Legacy to New Plan Conversion"
   ]
  },
  {
   "cell_type": "markdown",
   "id": "ad096851",
   "metadata": {},
   "source": [
    "## Stage 1 - Load and Explore Data"
   ]
  },
  {
   "cell_type": "markdown",
   "id": "1e11cc71",
   "metadata": {},
   "source": [
    "### Import the needed libraries"
   ]
  },
  {
   "cell_type": "code",
   "execution_count": null,
   "id": "180de5fd-8e1a-49b9-9111-62cb2238bccb",
   "metadata": {},
   "outputs": [],
   "source": [
    "import pandas as pd\n",
    "from sklearn.tree import DecisionTreeClassifier\n",
    "from sklearn.ensemble import RandomForestClassifier\n",
    "from sklearn.model_selection import train_test_split\n",
    "from sklearn.metrics import accuracy_score"
   ]
  },
  {
   "cell_type": "markdown",
   "id": "6211d4f7",
   "metadata": {},
   "source": [
    "### Load Source Data, Define Features and Target, Verify Target is a Binary Classification"
   ]
  },
  {
   "cell_type": "code",
   "execution_count": null,
   "id": "00c3e521-c3e3-4739-9851-add20aa108eb",
   "metadata": {},
   "outputs": [],
   "source": [
    "df = pd.read_csv('datasets/users_behavior.csv')\n",
    "\n",
    "features = df.drop(['is_ultra'])\n",
    "target = df['is_ultra']\n",
    "\n",
    "# Inspect Unique Values in Target\n",
    "print(target.unique())\n",
    "\n",
    "# Count Class Distribution\n",
    "print(target.value_counts())\n",
    "\n",
    "# Data Type Check\n",
    "print(target.dtype)"
   ]
  },
  {
   "cell_type": "markdown",
   "id": "967c7ae1",
   "metadata": {},
   "source": [
    "## Stage 2 - Split Data\n",
    ">*  Split Ratio = 3:1:1\n",
    ">*  Random State = 12345"
   ]
  },
  {
   "cell_type": "code",
   "execution_count": null,
   "id": "c3dba5cf",
   "metadata": {},
   "outputs": [],
   "source": [
    "# split Source Data into Training Set of 60% and a Val/Test set of 40%\n",
    "features_train, features_val_test, target_train, target_val_test = train_test_split(features, target, test_size=0.40, random_state=12345)\n",
    "\n",
    "# split Val/Test Set into Validation set of 20% and a Test set of 20%\n",
    "feature_val, feature_test, target_val, target_test = train_test_split(features_val_test, target_val_test, test_size=0.5, random_state=12345)"
   ]
  },
  {
   "cell_type": "markdown",
   "id": "44dee556",
   "metadata": {},
   "source": [
    "## Stage 3 - Train & Validate Baseline Models\n",
    ">* Decision Tree Classifier\n",
    ">* Random Forest Classifier\n",
    ">* Looking for Validation Accuracy >= 0.75"
   ]
  },
  {
   "cell_type": "code",
   "execution_count": null,
   "id": "40ff8153",
   "metadata": {},
   "outputs": [],
   "source": [
    "# DecisionTreeClassifier\n",
    "for depth in range(1, 6):\n",
    "        # train model on training set\n",
    "        model = DecisionTreeClassifier(random_state=12345, max_depth=depth)\n",
    "        model.fit(features_train, target_train)\n",
    "        # get model predictions on validation set\n",
    "        predictions_val = model.predict(features_val)\n",
    "        accuracy = accuracy_score(target_val, predictions_val)\n",
    "        print(\"Tree depth:\", depth, \"Validation Accuracy:\", accuracy)"
   ]
  },
  {
   "cell_type": "code",
   "execution_count": null,
   "id": "cdc27209",
   "metadata": {},
   "outputs": [],
   "source": [
    "# RandomForestClassifier\n",
    "for trees in range(10, 51, 10):\n",
    "    for depth in range(1, 6):\n",
    "        # train model on training set\n",
    "        model = RandomForestClassifier(random_state=12345, max_depth=depth, n_estimators=trees)\n",
    "        model.fit(features_train, target_train)\n",
    "        # get model predictions on validation set\n",
    "        predictions_val = model.predict(features_val)\n",
    "        accuracy = accuracy_score(target_val, predictions_val)\n",
    "        print(\"Trees:\", trees, \"Depth:\", depth, \"Validation Accuracy:\", accuracy)"
   ]
  },
  {
   "cell_type": "markdown",
   "id": "7185b7e0",
   "metadata": {},
   "source": [
    "## Stage 4 - Select Best Model and Final Test\n",
    ">* Final Test Accuracy >= 0.75"
   ]
  },
  {
   "cell_type": "code",
   "execution_count": null,
   "id": "1ca3667c",
   "metadata": {},
   "outputs": [],
   "source": [
    "# Final Model Test\n",
    "\n",
    "final_model = \n",
    "final_model.fit(features_test, target_test)\n",
    "final_predictions = final_model.predict(features_test)\n",
    "final_accuracy = accuracy_score(target_test, final_predictions)\n",
    "print(\"Final Model Test Accuracy:\", final_accuracy)"
   ]
  },
  {
   "cell_type": "markdown",
   "id": "a5acf5bd",
   "metadata": {},
   "source": []
  }
 ],
 "metadata": {
  "kernelspec": {
   "display_name": "base",
   "language": "python",
   "name": "python3"
  },
  "language_info": {
   "codemirror_mode": {
    "name": "ipython",
    "version": 3
   },
   "file_extension": ".py",
   "mimetype": "text/x-python",
   "name": "python",
   "nbconvert_exporter": "python",
   "pygments_lexer": "ipython3",
   "version": "3.12.7"
  }
 },
 "nbformat": 4,
 "nbformat_minor": 5
}
